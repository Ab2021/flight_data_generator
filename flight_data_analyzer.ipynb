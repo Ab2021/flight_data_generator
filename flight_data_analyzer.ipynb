{
  "nbformat": 4,
  "nbformat_minor": 0,
  "metadata": {
    "colab": {
      "provenance": []
    },
    "kernelspec": {
      "name": "python3",
      "display_name": "Python 3"
    },
    "language_info": {
      "name": "python"
    }
  },
  "cells": [
    {
      "cell_type": "code",
      "source": [
        "import os\n",
        "os.chdir(\"/content/drive/MyDrive/Colab Notebooks/Python_Scripts/Assignments/vertisystem/\")\n",
        "print(os.getcwd())"
      ],
      "metadata": {
        "colab": {
          "base_uri": "https://localhost:8080/"
        },
        "id": "z1sys3ticCgZ",
        "outputId": "e3750cfc-c9a5-4a89-c6d9-e36dba452013"
      },
      "execution_count": null,
      "outputs": [
        {
          "output_type": "stream",
          "name": "stdout",
          "text": [
            "/content/drive/MyDrive/Colab Notebooks/Python_Scripts/Assignments/vertisystem\n"
          ]
        }
      ]
    },
    {
      "cell_type": "code",
      "source": [
        "import json\n",
        "import random\n",
        "import os\n",
        "import datetime\n",
        "from concurrent.futures import ThreadPoolExecutor\n",
        "import time\n",
        "\n",
        "# Constants\n",
        "N = 5000  # Number of JSON files to generate\n",
        "M_MIN, M_MAX = 50, 100  # Range for number of flight records per file\n",
        "K = 150  # Number of cities\n",
        "L = 0.007  # Probability for NULL values\n",
        "OUTPUT_DIR = os.getcwd()+\"/tmp/flights\""
      ],
      "metadata": {
        "id": "XKeA4EnurSTh"
      },
      "execution_count": null,
      "outputs": []
    },
    {
      "cell_type": "code",
      "source": [
        "OUTPUT_DIR"
      ],
      "metadata": {
        "colab": {
          "base_uri": "https://localhost:8080/",
          "height": 35
        },
        "id": "JSZ1m6oJrTma",
        "outputId": "4221a617-3180-470b-90bb-7cdb7326bad2"
      },
      "execution_count": null,
      "outputs": [
        {
          "output_type": "execute_result",
          "data": {
            "text/plain": [
              "'/content/drive/MyDrive/Colab Notebooks/Python_Scripts/Assignments/vertisystem/tmp/flights'"
            ],
            "application/vnd.google.colaboratory.intrinsic+json": {
              "type": "string"
            }
          },
          "metadata": {},
          "execution_count": 5
        }
      ]
    },
    {
      "cell_type": "code",
      "source": [
        "\n",
        "\n",
        "# Generate a list of city names\n",
        "cities = [f\"City_{i}\" for i in range(K)]\n",
        "\n",
        "def generate_flight_record():\n",
        "    origin, destination = random.sample(cities, 2)\n",
        "    date = datetime.date(2024, random.randint(1, 12), random.randint(1, 28))\n",
        "    duration = random.randint(1800, 36000)  # 30 minutes to 10 hours\n",
        "    passengers = random.randint(50, 300)\n",
        "\n",
        "    record = {\n",
        "        \"date\": date.isoformat(),\n",
        "        \"origin_city\": origin,\n",
        "        \"destination_city\": destination,\n",
        "        \"flight_duration_secs\": duration,\n",
        "        \"passengers_on_board\": passengers\n",
        "    }\n",
        "\n",
        "    # Introduce NULL values with probability L\n",
        "    if random.random() < L:\n",
        "        key = random.choice(list(record.keys()))\n",
        "        record[key] = None\n",
        "\n",
        "    return record\n",
        "\n",
        "def generate_json_file(file_number):\n",
        "    month = random.randint(1, 12)\n",
        "    year = 24\n",
        "    origin_city = random.choice(cities)\n",
        "    filename = f\"{OUTPUT_DIR}/{month:02d}-{year:02d}-{origin_city}-flights-{file_number}.json\"\n",
        "    os.makedirs(os.path.dirname(filename), exist_ok=True)\n",
        "\n",
        "    records = [generate_flight_record() for _ in range(random.randint(M_MIN, M_MAX))]\n",
        "\n",
        "    with open(filename, 'w') as f:\n",
        "        json.dump(records, f)\n",
        "\n",
        "def analyze_files():\n",
        "    total_records = 0\n",
        "    dirty_records = 0\n",
        "    flight_durations = {}\n",
        "    city_passengers = {city: {\"arrived\": 0, \"left\": 0} for city in cities}\n",
        "\n",
        "    for filename in os.listdir(OUTPUT_DIR):\n",
        "        with open(os.path.join(OUTPUT_DIR, filename), 'r') as f:\n",
        "            records = json.load(f)\n",
        "            total_records += len(records)\n",
        "\n",
        "            for record in records:\n",
        "                if None in record.values():\n",
        "                    dirty_records += 1\n",
        "                else:\n",
        "                    dest = record[\"destination_city\"]\n",
        "                    if dest not in flight_durations:\n",
        "                        flight_durations[dest] = []\n",
        "                    flight_durations[dest].append(record[\"flight_duration_secs\"])\n",
        "\n",
        "                    city_passengers[record[\"origin_city\"]][\"left\"] += record[\"passengers_on_board\"]\n",
        "                    city_passengers[record[\"destination_city\"]][\"arrived\"] += record[\"passengers_on_board\"]\n",
        "\n",
        "    # Calculate AVG and P95 for top 25 destination cities\n",
        "    top_25_destinations = sorted(flight_durations.items(), key=lambda x: len(x[1]), reverse=True)[:25]\n",
        "    stats = {}\n",
        "    for dest, durations in top_25_destinations:\n",
        "        avg = sum(durations) / len(durations)\n",
        "        p95 = sorted(durations)[int(len(durations) * 0.95)]\n",
        "        stats[dest] = {\"avg\": avg, \"p95\": p95}\n",
        "\n",
        "    # Find cities with max passengers arrived and left\n",
        "    max_arrived = max(city_passengers.items(), key=lambda x: x[1][\"arrived\"])\n",
        "    max_left = max(city_passengers.items(), key=lambda x: x[1][\"left\"])\n",
        "\n",
        "    return total_records, dirty_records, stats, max_arrived, max_left\n",
        "\n",
        "def main():\n",
        "    start_time = time.time()\n",
        "\n",
        "    # Generation phase\n",
        "    print(f\"Generating {N} JSON files...\")\n",
        "    with ThreadPoolExecutor() as executor:\n",
        "        executor.map(generate_json_file, range(N))\n",
        "\n",
        "    # Analysis & Cleaning phase\n",
        "    print(\"Analyzing files...\")\n",
        "    total_records, dirty_records, flight_stats, max_arrived, max_left = analyze_files()\n",
        "\n",
        "    end_time = time.time()\n",
        "    total_duration = end_time - start_time\n",
        "\n",
        "    # Print results\n",
        "    print(f\"Total records processed: {total_records}\")\n",
        "    print(f\"Dirty records: {dirty_records}\")\n",
        "    print(f\"Total run duration: {total_duration:.2f} seconds\")\n",
        "\n",
        "    print(\"\\nAVG and P95 of flight duration for Top 25 destination cities:\")\n",
        "    for dest, stats in flight_stats.items():\n",
        "        print(f\"{dest}: AVG = {stats['avg']:.2f} seconds, P95 = {stats['p95']:.2f} seconds\")\n",
        "\n",
        "    print(f\"\\nCity with max passengers arrived: {max_arrived[0]} ({max_arrived[1]['arrived']} passengers)\")\n",
        "    print(f\"City with max passengers left: {max_left[0]} ({max_left[1]['left']} passengers)\")\n",
        "\n",
        "if __name__ == \"__main__\":\n",
        "    main()"
      ],
      "metadata": {
        "colab": {
          "base_uri": "https://localhost:8080/"
        },
        "id": "CBKLsQlmrBzw",
        "outputId": "5a9ac5a8-50ef-4e2b-e5a5-b7e4003a37dd"
      },
      "execution_count": null,
      "outputs": [
        {
          "output_type": "stream",
          "name": "stdout",
          "text": [
            "Generating 5000 JSON files...\n",
            "Analyzing files...\n",
            "Total records processed: 374941\n",
            "Dirty records: 2708\n",
            "Total run duration: 204.92 seconds\n",
            "\n",
            "AVG and P95 of flight duration for Top 25 destination cities:\n",
            "City_76: AVG = 18962.84 seconds, P95 = 34263.00 seconds\n",
            "City_132: AVG = 18780.34 seconds, P95 = 33953.00 seconds\n",
            "City_12: AVG = 18900.60 seconds, P95 = 34435.00 seconds\n",
            "City_133: AVG = 18701.48 seconds, P95 = 34168.00 seconds\n",
            "City_113: AVG = 19245.64 seconds, P95 = 34351.00 seconds\n",
            "City_121: AVG = 18681.55 seconds, P95 = 34117.00 seconds\n",
            "City_126: AVG = 18880.62 seconds, P95 = 34163.00 seconds\n",
            "City_102: AVG = 19082.48 seconds, P95 = 34234.00 seconds\n",
            "City_77: AVG = 18635.49 seconds, P95 = 34315.00 seconds\n",
            "City_75: AVG = 18805.13 seconds, P95 = 34251.00 seconds\n",
            "City_68: AVG = 18837.14 seconds, P95 = 34250.00 seconds\n",
            "City_6: AVG = 18847.60 seconds, P95 = 34324.00 seconds\n",
            "City_144: AVG = 18965.15 seconds, P95 = 34204.00 seconds\n",
            "City_112: AVG = 19086.26 seconds, P95 = 34284.00 seconds\n",
            "City_91: AVG = 18991.63 seconds, P95 = 34626.00 seconds\n",
            "City_82: AVG = 18691.04 seconds, P95 = 34212.00 seconds\n",
            "City_99: AVG = 19098.48 seconds, P95 = 34415.00 seconds\n",
            "City_32: AVG = 18909.09 seconds, P95 = 34191.00 seconds\n",
            "City_39: AVG = 19135.84 seconds, P95 = 34445.00 seconds\n",
            "City_111: AVG = 18960.61 seconds, P95 = 34298.00 seconds\n",
            "City_110: AVG = 18429.00 seconds, P95 = 34288.00 seconds\n",
            "City_52: AVG = 19025.16 seconds, P95 = 34355.00 seconds\n",
            "City_28: AVG = 19213.73 seconds, P95 = 34240.00 seconds\n",
            "City_61: AVG = 18599.81 seconds, P95 = 34359.00 seconds\n",
            "City_0: AVG = 18895.52 seconds, P95 = 34136.00 seconds\n",
            "\n",
            "City with max passengers arrived: City_76 (469622 passengers)\n",
            "City with max passengers left: City_5 (461524 passengers)\n"
          ]
        }
      ]
    }
  ]
}